{
 "cells": [
  {
   "cell_type": "code",
   "execution_count": 1,
   "id": "4f38a8d9-4482-48b4-bf7d-7a2fddde3ce9",
   "metadata": {},
   "outputs": [
    {
     "data": {
      "application/vnd.jupyter.widget-view+json": {
       "model_id": "916aa1e7518e45c9a0da6c8e23b3d984",
       "version_major": 2,
       "version_minor": 0
      },
      "text/plain": []
     },
     "metadata": {},
     "output_type": "display_data"
    },
    {
     "data": {
      "application/vnd.jupyter.widget-view+json": {
       "model_id": "c9a91b502e434cc2b449393c7b266171",
       "version_major": 2,
       "version_minor": 0
      },
      "text/plain": [
       "VBox(children=(Dropdown(description='PDB ID:', options=('Select a protein...', '7CYQ', '4M6U', '1UBQ', '4ADS',…"
      ]
     },
     "metadata": {},
     "output_type": "display_data"
    }
   ],
   "source": [
    "import urllib\n",
    "import warnings\n",
    "import Bio\n",
    "from Bio import BiopythonWarning\n",
    "from Bio.PDB import PDBParser\n",
    "import ipywidgets as widgets\n",
    "import nglview as nv\n",
    "\n",
    "# Ignore Biopython warnings\n",
    "warnings.simplefilter('ignore', BiopythonWarning)\n",
    "\n",
    "def visualize_protein(change):\n",
    "    if change['new'] == 'Select a protein...':\n",
    "        with widget_output:\n",
    "            print('Please select a protein to display.')\n",
    "            widget_output.clear_output(wait=True)\n",
    "        \n",
    "    else:\n",
    "        pdb_id = change['new']\n",
    "        \n",
    "        # Fetch and store PDB\n",
    "        urllib.request.urlretrieve(f'https://files.rcsb.org/download/{pdb_id}.pdb',\n",
    "                                   f'/home/zach/portfolio/protein/pdb_data/{pdb_id}.pdb')\n",
    "        # Create parser instance    \n",
    "        parser = PDBParser()\n",
    "\n",
    "        # Read in protein strucutre data from stored PDB file\n",
    "        structure = parser.get_structure(f'{pdb_id}',f'/home/zach/portfolio/protein/pdb_data/{pdb_id}.pdb')\n",
    "    \n",
    "        # Visualize struture with accompanying GUI\n",
    "        view = nv.show_biopython(structure, gui=True)\n",
    "    \n",
    "        # Display widget output; clear display when output changes\n",
    "        with widget_output:\n",
    "            display(view)\n",
    "            widget_output.clear_output(wait=True)\n",
    "\n",
    "# Capture widget output\n",
    "widget_output = widgets.Output()\n",
    "\n",
    "# Selector widget\n",
    "protein_selector = widgets.Dropdown(\n",
    "    options=['Select a protein...', '7CYQ', '4M6U', '1UBQ', '4ADS', '1ZQA'],\n",
    "    value='Select a protein...',\n",
    "    description='PDB ID:',\n",
    "    disabled=False)\n",
    "\n",
    "# Handle PDB ID selection\n",
    "protein_selector.observe(visualize_protein, names='value')\n",
    "\n",
    "# Display selector widget and output\n",
    "widgets.VBox([protein_selector, widget_output])"
   ]
  },
  {
   "cell_type": "code",
   "execution_count": null,
   "id": "85b48acb-747d-4d66-b27d-22e49fcda759",
   "metadata": {},
   "outputs": [],
   "source": [
    "!pip install biopython"
   ]
  },
  {
   "cell_type": "code",
   "execution_count": null,
   "id": "91b61c7a-9eca-40ac-8edc-68a466e431b1",
   "metadata": {},
   "outputs": [],
   "source": [
    "!conda update -n base conda"
   ]
  },
  {
   "cell_type": "code",
   "execution_count": null,
   "id": "21633b01-2a00-44de-a6f0-a430b865d6b4",
   "metadata": {},
   "outputs": [],
   "source": []
  }
 ],
 "metadata": {
  "kernelspec": {
   "display_name": "Python 3 (ipykernel)",
   "language": "python",
   "name": "python3"
  },
  "language_info": {
   "codemirror_mode": {
    "name": "ipython",
    "version": 3
   },
   "file_extension": ".py",
   "mimetype": "text/x-python",
   "name": "python",
   "nbconvert_exporter": "python",
   "pygments_lexer": "ipython3",
   "version": "3.8.5"
  }
 },
 "nbformat": 4,
 "nbformat_minor": 5
}
