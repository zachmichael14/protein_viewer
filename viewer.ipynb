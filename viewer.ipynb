{
 "cells": [
  {
   "cell_type": "code",
   "execution_count": null,
   "id": "bc14de92",
   "metadata": {
    "tags": [
     "remove-cell"
    ]
   },
   "outputs": [],
   "source": [
    "%%html\n",
    "<script>\n",
    "    // AUTORUN ALL CELLS ON NOTEBOOK-LOAD!\n",
    "    require(\n",
    "        ['base/js/namespace', 'jquery'], \n",
    "        function(jupyter, $) {\n",
    "            $(jupyter.events).on(\"kernel_ready.Kernel\", function () {\n",
    "                console.log(\"Auto-running all cells-below...\");\n",
    "                jupyter.actions.call('jupyter-notebook:run-all-cells-below');\n",
    "                jupyter.actions.call('jupyter-notebook:save-notebook');\n",
    "            });\n",
    "        }\n",
    "    );\n",
    "</script>"
   ]
  },
  {
   "cell_type": "markdown",
   "id": "e426ec21",
   "metadata": {},
   "source": [
    "The Protein Data Bank (PDB) stores data for various proteins, each protein being designated by a four character alphanumeric ID. Some of this data includes 3-D structure information; this data is important because the structure of a protein determines its function.\n",
    "\n",
    "Even still, predicting the shape of a protein still remains challenging, though huge breakthroughs have been made in this field using [machine learning](https://pubmed.ncbi.nlm.nih.gov/34015749/). This Notebook serves as a brief exploration into the PDB and protein modeling."
   ]
  },
  {
   "cell_type": "code",
   "execution_count": null,
   "id": "4f38a8d9-4482-48b4-bf7d-7a2fddde3ce9",
   "metadata": {},
   "outputs": [],
   "source": [
    "import urllib\n",
    "import warnings\n",
    "import Bio\n",
    "from Bio import BiopythonWarning\n",
    "from Bio.PDB import PDBParser\n",
    "import ipywidgets as widgets\n",
    "import nglview as nv\n",
    "\n",
    "# Ignore Bio.PDBConstructionWarning for discontinuous protein chains\n",
    "warnings.simplefilter('ignore', BiopythonWarning)\n",
    "\n",
    "def visualize_protein(change):\n",
    "    \n",
    "    # Handle error if user re-selects default value\n",
    "    if change['new'] == 'Select a protein...':\n",
    "        with widget_output:\n",
    "            print('Please select a protein to display.')\n",
    "            widget_output.clear_output(wait=True)\n",
    "        \n",
    "    else:\n",
    "        pdb_id = change['new']\n",
    "        \n",
    "        # Fetch and cache PDB data\n",
    "        urllib.request.urlretrieve(f'https://files.rcsb.org/download/{pdb_id}.pdb',\n",
    "                                   f'pdb_data/{pdb_id}.pdb')\n",
    "        # Create parser instance    \n",
    "        parser = PDBParser()\n",
    "\n",
    "        # Read in protein structure from stored PDB file\n",
    "        structure = parser.get_structure(f'{pdb_id}',f'pdb_data/{pdb_id}.pdb')\n",
    "    \n",
    "        # Visualize struture with accompanying GUI\n",
    "        view = nv.show_biopython(structure, gui=True)\n",
    "    \n",
    "        # Display widget output; clear display when output changes\n",
    "        with widget_output:\n",
    "            display(view)\n",
    "            widget_output.clear_output(wait=True)\n",
    "\n",
    "# Capture the output of widgets\n",
    "widget_output = widgets.Output()\n",
    "\n",
    "# Selector widget\n",
    "protein_selector = widgets.Dropdown(\n",
    "    options=['Select a protein...', '7CYQ', '4M6U', '1UBQ', '4ADS', '1ZQA'],\n",
    "    value='Select a protein...',\n",
    "    description='PDB ID:',\n",
    "    disabled=False)\n",
    "\n",
    "# Handle PDB ID selection from widget\n",
    "protein_selector.observe(visualize_protein, names='value')\n",
    "\n",
    "# Display selector widget, output\n",
    "widgets.VBox([protein_selector, widget_output])"
   ]
  },
  {
   "cell_type": "code",
   "execution_count": null,
   "id": "d38a1b5e",
   "metadata": {},
   "outputs": [],
   "source": []
  }
 ],
 "metadata": {
  "celltoolbar": "Edit Metadata",
  "kernelspec": {
   "display_name": "Python 3 (ipykernel)",
   "language": "python",
   "name": "python3"
  },
  "language_info": {
   "codemirror_mode": {
    "name": "ipython",
    "version": 3
   },
   "file_extension": ".py",
   "mimetype": "text/x-python",
   "name": "python",
   "nbconvert_exporter": "python",
   "pygments_lexer": "ipython3",
   "version": "3.8.5"
  }
 },
 "nbformat": 4,
 "nbformat_minor": 5
}
