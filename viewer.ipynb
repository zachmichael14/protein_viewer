{
 "cells": [
  {
   "cell_type": "markdown",
   "id": "e426ec21",
   "metadata": {},
   "source": [
    "# Introduction\n",
    "The Protein Data Bank (PDB) stores data for various proteins, each protein being designated by a four character alphanumeric ID. Some of this data includes 3-D structure information; this data is important because the structure of a protein determines its function.\n",
    "\n",
    "Even still, predicting the shape of a protein still remains challenging, though huge breakthroughs have been made in this field using [machine learning](https://pubmed.ncbi.nlm.nih.gov/34015749/). This Notebook serves as a brief exploration into proteins and protein modeling.\n",
    "\n",
    "# The Proteins\n",
    "\n",
    "The proteins listed below are available for viewing.\n",
    "## 1C8Q: Human salivary amylase\n",
    "Amylase is an enzyme that aids digestion by breaking down starches into sugars. It's made by both the pancreas and the salivary glands; its presence in the latter explains why eating foods high in starch (rice, for instance) may taste slightly sweet while chewing them.\n",
    "\n",
    "## 4M6U: *P. putida* mandelate racemase\n",
    "The bacterium *Pseudomonas putida*, from which this protein comes, was the first patented living organism and resulted in the U.S. Supreme Court case *Diamond v. Chakrabarty*. This particular protein essentially creates a mirror image of its substrate, a molecule called mandelic acid.\n",
    "\n",
    "## 4ADS: Plasmodial PLP synthase complex\n",
    "The parasite *Plasmodium berghei* causes malaria in some rodents and is a model organism for studying malaria in humans. Protein 4ADS is a complex (meaning it's composed of multiple individual proteins) that synthesizes the molecule pyridoxal phosphate (PLP), or vitamin B<sub>6</sub>.\n",
    "\n",
    "\n",
    "## 1UBQ: Ubiquitin (1.8 Å resolution)\n",
    "Ubiquitin is so named because of its ubiquitous nature in most eukaryotes (basically animals, plants, and fungi). In fact, it's so useful that four diffent genes encode for its creation in humans. Importantly, ubiquitin fosters a process called ubiquintinylation, which can greatly alter a protein's function.\n",
    "\n",
    "\n",
    "## 1ZQA: DNA polymerase complexed with DNA\n",
    "DNA polymerases are a class of proteins that are cruicial in the replication and repair of DNA. This particular variant is involved heavily in the DNA repair process in humans. Here, it's pictured with a very small segment of DNA.\n",
    "\n",
    "# GUI Usage\n",
    "\n",
    "While much of the GUI functionality is geared toward creating custom representations, the model representation can most easily be changed by navigating to Extra > Quick tab and selecting a representation. Representations can stack.\n",
    "\n",
    "\"Cartoon\" is typically the default as it's easiest to get a sense of the motifs that make up the protein.\n",
    "\n",
    "The \"contact\" view represents distance between amino acids and has become increasingly useful for machine learning computations as these values are independent of model transformations. \n",
    "\n",
    "\"Spacefill\" and \"ball-and-stick\" are both common representations of molecules in chemistry, though the later is largely ignored by this GUI as most proteins would be too large to fit on screen if modeled accurately this way."
   ]
  },
  {
   "cell_type": "code",
   "execution_count": 2,
   "id": "4f38a8d9-4482-48b4-bf7d-7a2fddde3ce9",
   "metadata": {
    "tags": [
     "remove-cell"
    ]
   },
   "outputs": [
    {
     "data": {
      "application/vnd.jupyter.widget-view+json": {
       "model_id": "ae94c312291c4d73ae06f88f31c45925",
       "version_major": 2,
       "version_minor": 0
      },
      "text/plain": [
       "VBox(children=(Dropdown(description='PDB ID:', options=('Select a protein...', '1C8Q', '4M6U', '1UBQ', '4ADS',…"
      ]
     },
     "metadata": {},
     "output_type": "display_data"
    }
   ],
   "source": [
    "# Press Shift \n",
    "\n",
    "import urllib\n",
    "import warnings\n",
    "import Bio\n",
    "from Bio import BiopythonWarning\n",
    "from Bio.PDB import PDBParser\n",
    "import ipywidgets as widgets\n",
    "import nglview as nv\n",
    "\n",
    "# Ignore Bio.PDBConstructionWarning for discontinuous protein chains\n",
    "warnings.simplefilter('ignore', BiopythonWarning)\n",
    "\n",
    "def visualize_protein(change):\n",
    "    \n",
    "    # Handle error if user re-selects default value\n",
    "    if change['new'] == 'Select a protein...':\n",
    "        with widget_output:\n",
    "            print('Please select a protein to display.')\n",
    "            widget_output.clear_output(wait=True)\n",
    "        \n",
    "    else:\n",
    "        pdb_id = change['new']\n",
    "        \n",
    "        # Fetch and cache PDB data\n",
    "        urllib.request.urlretrieve(f'https://files.rcsb.org/download/{pdb_id}.pdb',\n",
    "                                   f'pdb_data/{pdb_id}.pdb')\n",
    "        # Create parser instance    \n",
    "        parser = PDBParser()\n",
    "\n",
    "        # Read in protein structure from stored PDB file\n",
    "        structure = parser.get_structure(f'{pdb_id}',f'pdb_data/{pdb_id}.pdb')\n",
    "    \n",
    "        # Visualize struture with accompanying GUI\n",
    "        view = nv.show_biopython(structure, gui=True)\n",
    "    \n",
    "        # Display widget output; clear display when output changes\n",
    "        with widget_output:\n",
    "            display(view)\n",
    "            widget_output.clear_output(wait=True)\n",
    "\n",
    "# Capture the output of widgets\n",
    "widget_output = widgets.Output()\n",
    "\n",
    "# Selector widget\n",
    "protein_selector = widgets.Dropdown(\n",
    "    options=['Select a protein...', '1C8Q', '4M6U', '1UBQ', '4ADS', '1ZQA'],\n",
    "    value='Select a protein...',\n",
    "    description='PDB ID:',\n",
    "    disabled=False)\n",
    "\n",
    "# Handle PDB ID selection from widget\n",
    "protein_selector.observe(visualize_protein, names='value')\n",
    "\n",
    "# Display selector widget, output\n",
    "widgets.VBox([protein_selector, widget_output])"
   ]
  },
  {
   "cell_type": "code",
   "execution_count": null,
   "id": "781b7fdf",
   "metadata": {},
   "outputs": [],
   "source": []
  }
 ],
 "metadata": {
  "celltoolbar": "Edit Metadata",
  "kernelspec": {
   "display_name": "Python 3 (ipykernel)",
   "language": "python",
   "name": "python3"
  },
  "language_info": {
   "codemirror_mode": {
    "name": "ipython",
    "version": 3
   },
   "file_extension": ".py",
   "mimetype": "text/x-python",
   "name": "python",
   "nbconvert_exporter": "python",
   "pygments_lexer": "ipython3",
   "version": "3.8.5"
  }
 },
 "nbformat": 4,
 "nbformat_minor": 5
}
